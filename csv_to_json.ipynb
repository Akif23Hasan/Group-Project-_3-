{
 "cells": [
  {
   "cell_type": "code",
   "execution_count": 2,
   "metadata": {},
   "outputs": [],
   "source": [
    "import csv\n",
    "import json\n",
    "import os\n",
    "\n",
    "def csv_to_json(csv_file_path, json_file_path):\n",
    "    # create a dictionary\n",
    "    data_dict = {}\n",
    "\n",
    "    # open a csv file handler\n",
    "    with open(csv_file_path, encoding='utf-8') as csv_file_handler:\n",
    "        csv_reader = csv.reader(csv_file_handler)\n",
    "\n",
    "        # convert each row into a dictionary\n",
    "        # and add the converted data to the data_dict\n",
    "        for rows in csv_reader:\n",
    "            # use the value in column A (index 0) as the key\n",
    "            key = rows[0]\n",
    "            data_dict[key] = rows\n",
    "\n",
    "    # open a json file handler and use json.dump method to write the data\n",
    "    with open(json_file_path, 'w', encoding='utf-8') as json_file_handler:\n",
    "        json.dump(data_dict, json_file_handler, indent=4)\n",
    "\n",
    "\n",
    "# Get the list of CSV files in the 'csv_files' folder\n",
    "csv_folder_path = 'csv_files'\n",
    "csv_files = [file for file in os.listdir(csv_folder_path) if file.endswith('.csv')]\n",
    "\n",
    "# Iterate over the CSV files and convert each one to JSON\n",
    "for csv_file in csv_files:\n",
    "    csv_file_path = os.path.join(csv_folder_path, csv_file)\n",
    "    json_file_path = os.path.splitext(csv_file_path)[0] + '.json'\n",
    "    csv_to_json(csv_file_path, json_file_path)\n",
    "\n"
   ]
  }
 ],
 "metadata": {
  "kernelspec": {
   "display_name": "Dataviz",
   "language": "python",
   "name": "python3"
  },
  "language_info": {
   "codemirror_mode": {
    "name": "ipython",
    "version": 3
   },
   "file_extension": ".py",
   "mimetype": "text/x-python",
   "name": "python",
   "nbconvert_exporter": "python",
   "pygments_lexer": "ipython3",
   "version": "3.10.9"
  },
  "orig_nbformat": 4
 },
 "nbformat": 4,
 "nbformat_minor": 2
}
