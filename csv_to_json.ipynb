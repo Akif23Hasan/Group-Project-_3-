{
 "cells": [
  {
   "cell_type": "code",
   "execution_count": 82,
   "metadata": {},
   "outputs": [],
   "source": [
    "import csv\n",
    "import json\n",
    "import os\n",
    "\n",
    "def csv_to_json(csv_file_path, json_file_path):\n",
    "    # Create a dictionary\n",
    "    data_dict = {}\n",
    "\n",
    "    # Open the CSV file\n",
    "    with open(csv_file_path, encoding='utf-8') as csv_file_handler:\n",
    "        csv_reader = csv.DictReader(csv_file_handler)\n",
    "\n",
    "        # Get the filename without extension\n",
    "        filename = os.path.splitext(os.path.basename(csv_file_path))[0]\n",
    "\n",
    "        # Iterate over each row in the CSV file\n",
    "        for row in csv_reader:\n",
    "            # Use the value in the \"Stock symbol\" column as the key\n",
    "            key = ''.join(char for char in row['Stock symbol'] if char != '\"')  # Remove double quotes from the key\n",
    "\n",
    "            # Remove the \"Stock symbol\" key from the row dictionary\n",
    "            del row[\"Stock symbol\"]\n",
    "\n",
    "            # Convert numeric values to appropriate types\n",
    "            for field in row:\n",
    "                try:\n",
    "                    row[field] = float(row[field])\n",
    "                except ValueError:\n",
    "                    pass\n",
    "\n",
    "            data_dict[key] = row\n",
    "\n",
    "    # Write the data dictionary to a JSON file\n",
    "    with open(json_file_path, 'w', encoding='utf-8') as json_file_handler:\n",
    "        json_file_handler.write(f\"let data_{filename} = \")\n",
    "        json.dump(data_dict, json_file_handler, indent=4)\n",
    "        json_file_handler.write(\";\")\n",
    "\n",
    "# Get the list of CSV files in the 'csv_files' folder\n",
    "csv_folder_path = 'csv_files'\n",
    "csv_files = [file for file in os.listdir(csv_folder_path) if file.endswith('.csv')]\n",
    "\n",
    "# Iterate over the CSV files and convert each one to JSON\n",
    "for csv_file in csv_files:\n",
    "    csv_file_path = os.path.join(csv_folder_path, csv_file)\n",
    "    json_file_path = os.path.splitext(csv_file_path)[0] + '.js'\n",
    "    csv_to_json(csv_file_path, json_file_path)\n"
   ]
  }
 ],
 "metadata": {
  "kernelspec": {
   "display_name": "Dataviz",
   "language": "python",
   "name": "python3"
  },
  "language_info": {
   "codemirror_mode": {
    "name": "ipython",
    "version": 3
   },
   "file_extension": ".py",
   "mimetype": "text/x-python",
   "name": "python",
   "nbconvert_exporter": "python",
   "pygments_lexer": "ipython3",
   "version": "3.10.9"
  },
  "orig_nbformat": 4
 },
 "nbformat": 4,
 "nbformat_minor": 2
}
